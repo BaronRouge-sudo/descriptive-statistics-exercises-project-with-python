{
 "cells": [
  {
   "cell_type": "markdown",
   "id": "ac622319",
   "metadata": {},
   "source": [
    "# Descriptive statistics problems"
   ]
  },
  {
   "cell_type": "markdown",
   "id": "5e0ab0d5",
   "metadata": {},
   "source": [
    "### Exercise 1\n",
    "\n",
    "We will use NumPy to obtain information to describe statistically.\n",
    "\n",
    "- Generate an array of 100 elements following a normal distribution.\n",
    "- Generate an array of 100 elements following a chi-square distribution with 3 degrees of freedom.\n",
    "- Calculate the main metrics and statistical measures that best describe the two vectors."
   ]
  },
  {
   "cell_type": "code",
   "execution_count": 37,
   "id": "34720ab6",
   "metadata": {},
   "outputs": [
    {
     "name": "stdout",
     "output_type": "stream",
     "text": [
      "Distribución normal: \n",
      " [ 1.01841679 -1.21471982 -0.09985486 -0.1501344   0.4945858   0.99538981\n",
      " -0.40539694  0.49738483 -0.38106383 -0.37889285]\n",
      "Distribución chi cuadrado: \n",
      " [0.04723807 0.10185922 0.37127545 0.0738209  2.33828226 1.00577333\n",
      " 1.17162204 0.19162228 0.89697781 0.01599249]\n",
      "\n",
      "Métricas principales distribución normal  \n",
      "\n",
      "Media: 0.03614632535666478\n",
      "Mediana: 0.028944062067514667\n",
      "Moda: 1.0184167938700217\n",
      "Desviación estandar: 0.841381812079587\n",
      "Varianza: 0.7079233536983295\n",
      "Rango: 3.9548651996666573\n",
      "Sesgo: 0.09013228901511691\n",
      "Curtosis: -0.3550686863917689\n",
      "\n",
      "Métricas distribución chi cuadrado\n",
      "\n",
      "Media: 0.846251232604858\n",
      "Mediana : 0.3741810177243796\n",
      "Moda: 0.047238067256530514\n",
      "Desviación estandar: 1.68659021921482\n",
      "Varianza: 2.844586567551095\n",
      "Rango: 13.850876048445587\n",
      "Sesgo: 5.457018855958704\n",
      "Curtosis: 36.15024765094071\n"
     ]
    }
   ],
   "source": [
    "# TODO\n",
    "import numpy as np\n",
    "import statistics as stats\n",
    "from scipy.stats import skew,kurtosis\n",
    "\n",
    "Ndistr = np.random.randn(100)\n",
    "Chi2distr = np.random.chisquare(1,100)\n",
    "print(f\"Distribución normal: \\n {Ndistr[:10]}\")\n",
    "print(f\"Distribución chi cuadrado: \\n {Chi2distr[:10]}\")\n",
    "\n",
    "print(\"\\nMétricas principales distribución normal  \\n\")\n",
    "\n",
    "print(f\"Media: {stats.mean(Ndistr)}\")\n",
    "print(f\"Mediana: {stats.median(Ndistr)}\")\n",
    "print(f\"Moda: {stats.mode(Ndistr)}\")\n",
    "print(f\"Desviación estandar: {stats.stdev(Ndistr)}\")\n",
    "print(f\"Varianza: {stats.variance(Ndistr)}\")\n",
    "print(f\"Rango: {max(Ndistr)-min(Ndistr)}\")\n",
    "print(f\"Sesgo: {skew(Ndistr)}\")\n",
    "print(f\"Curtosis: {kurtosis(Ndistr)}\")\n",
    "\n",
    "print(\"\\nMétricas distribución chi cuadrado\\n\")\n",
    "\n",
    "print(f\"Media: {stats.mean(Chi2distr)}\")\n",
    "print(f\"Mediana : {stats.median(Chi2distr)}\")\n",
    "print(f\"Moda: {stats.mode(Chi2distr)}\")\n",
    "print(f\"Desviación estandar: {stats.stdev(Chi2distr)}\")\n",
    "print(f\"Varianza: {stats.variance(Chi2distr)}\")\n",
    "print(f\"Rango: {max(Chi2distr)-min(Chi2distr)}\")\n",
    "print(f\"Sesgo: {skew(Chi2distr)}\")\n",
    "print(f\"Curtosis: {kurtosis(Chi2distr)}\")\n"
   ]
  },
  {
   "cell_type": "markdown",
   "id": "46c70c3d",
   "metadata": {},
   "source": [
    "### Exercise 2\n",
    "\n",
    "Write a Python program to calculate the standard deviation of the following data:\n",
    "\n",
    "```py\n",
    "data = [4, 2, 5, 8, 6]\n",
    "```"
   ]
  },
  {
   "cell_type": "code",
   "execution_count": 12,
   "id": "d590308e",
   "metadata": {},
   "outputs": [
    {
     "name": "stdout",
     "output_type": "stream",
     "text": [
      "Datos: [4, 2, 5, 8, 6]\n",
      "Desviación estandar: 0.7985710899256826\n"
     ]
    }
   ],
   "source": [
    "import math\n",
    "\n",
    "data = [4, 2, 5, 8, 6]\n",
    "\n",
    "def SD(data):\n",
    "    n = len(data)\n",
    "    media = 0\n",
    "    sd = 0\n",
    "    for i in data:\n",
    "        media += i\n",
    "    media = media/n\n",
    "    for i in data:\n",
    "        sd += (i - media)**2\n",
    "        sd = math.sqrt(sd /(n - 1))\n",
    "    return sd \n",
    "\n",
    "print(f\"Datos: {data}\")\n",
    "print(f\"Desviación estandar: {SD(data)}\")"
   ]
  }
 ],
 "metadata": {
  "kernelspec": {
   "display_name": "Python 3",
   "language": "python",
   "name": "python3"
  },
  "language_info": {
   "codemirror_mode": {
    "name": "ipython",
    "version": 3
   },
   "file_extension": ".py",
   "mimetype": "text/x-python",
   "name": "python",
   "nbconvert_exporter": "python",
   "pygments_lexer": "ipython3",
   "version": "3.11.4"
  }
 },
 "nbformat": 4,
 "nbformat_minor": 5
}
